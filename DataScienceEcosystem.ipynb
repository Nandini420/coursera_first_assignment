{
 "cells": [
  {
   "cell_type": "markdown",
   "id": "b573e470",
   "metadata": {},
   "source": [
    "# Data Science Tools and Ecosystem"
   ]
  },
  {
   "cell_type": "markdown",
   "id": "da85cebe",
   "metadata": {},
   "source": [
    "In this notebook, Data Science Tools and Ecosystem are summarized."
   ]
  },
  {
   "cell_type": "markdown",
   "id": "6e71155f",
   "metadata": {},
   "source": [
    "Some of the popular languages that Data Scientists use are:\n",
    "    \n",
    "    1. Python\n",
    "    2. R programming\n",
    "    3. julia\n",
    "    4. c++"
   ]
  },
  {
   "cell_type": "markdown",
   "id": "0c76a076",
   "metadata": {},
   "source": [
    "Some of the commonly used libraries used by Data Scientists include:\n",
    "    \n",
    "    1. numpy\n",
    "    2. pandas\n",
    "    3. matplotlib\n",
    "    4. scikit learn\n",
    "    5. seaboarn\n",
    "    6. ternsorflow\n",
    "    7. keras"
   ]
  },
  {
   "cell_type": "markdown",
   "id": "b18dfe3f",
   "metadata": {},
   "source": [
    "| Data Science Tools |\n",
    "---------------------\n",
    "| python |\n",
    "| apache spark |\n",
    "| matlab |\n",
    "| tablaeu |"
   ]
  },
  {
   "cell_type": "markdown",
   "id": "643ef037",
   "metadata": {},
   "source": [
    "### Below are a few examples of evaluating arithmetic expressions in Python"
   ]
  },
  {
   "cell_type": "code",
   "execution_count": 3,
   "id": "8aab44cd",
   "metadata": {},
   "outputs": [
    {
     "data": {
      "text/plain": [
       "7"
      ]
     },
     "execution_count": 3,
     "metadata": {},
     "output_type": "execute_result"
    }
   ],
   "source": [
    "3 + 4"
   ]
  },
  {
   "cell_type": "code",
   "execution_count": 4,
   "id": "3e06ebf2",
   "metadata": {},
   "outputs": [
    {
     "data": {
      "text/plain": [
       "-1"
      ]
     },
     "execution_count": 4,
     "metadata": {},
     "output_type": "execute_result"
    }
   ],
   "source": [
    "3 - 4"
   ]
  },
  {
   "cell_type": "code",
   "execution_count": 5,
   "id": "143efba4",
   "metadata": {},
   "outputs": [
    {
     "data": {
      "text/plain": [
       "12"
      ]
     },
     "execution_count": 5,
     "metadata": {},
     "output_type": "execute_result"
    }
   ],
   "source": [
    "3 * 4"
   ]
  },
  {
   "cell_type": "code",
   "execution_count": 6,
   "id": "44a4a880",
   "metadata": {},
   "outputs": [
    {
     "data": {
      "text/plain": [
       "0.75"
      ]
     },
     "execution_count": 6,
     "metadata": {},
     "output_type": "execute_result"
    }
   ],
   "source": [
    "3 / 4"
   ]
  },
  {
   "cell_type": "code",
   "execution_count": 7,
   "id": "0c5e030a",
   "metadata": {},
   "outputs": [
    {
     "data": {
      "text/plain": [
       "17"
      ]
     },
     "execution_count": 7,
     "metadata": {},
     "output_type": "execute_result"
    }
   ],
   "source": [
    "# This a simple arithmetic expression to mutiply then add integers\n",
    "(3*4)+5"
   ]
  },
  {
   "cell_type": "code",
   "execution_count": 8,
   "id": "d1a3bf75",
   "metadata": {},
   "outputs": [
    {
     "data": {
      "text/plain": [
       "3.3333333333333335"
      ]
     },
     "execution_count": 8,
     "metadata": {},
     "output_type": "execute_result"
    }
   ],
   "source": [
    "# This will convert 200 minutes to hours by diving by 60\n",
    "minutes = 200\n",
    "hours = minutes /60\n",
    "hours"
   ]
  },
  {
   "cell_type": "markdown",
   "id": "da744a5d",
   "metadata": {},
   "source": [
    "**Objectives:**\n",
    "- python\n",
    "- r\n",
    "- c++\n",
    "- julia"
   ]
  },
  {
   "cell_type": "markdown",
   "id": "23a640af",
   "metadata": {},
   "source": [
    "## Author\n",
    "kala nandini"
   ]
  },
  {
   "cell_type": "code",
   "execution_count": null,
   "id": "d4443450",
   "metadata": {},
   "outputs": [],
   "source": []
  },
  {
   "cell_type": "code",
   "execution_count": null,
   "id": "cc4e47d1",
   "metadata": {},
   "outputs": [],
   "source": []
  }
 ],
 "metadata": {
  "kernelspec": {
   "display_name": "Python 3 (ipykernel)",
   "language": "python",
   "name": "python3"
  },
  "language_info": {
   "codemirror_mode": {
    "name": "ipython",
    "version": 3
   },
   "file_extension": ".py",
   "mimetype": "text/x-python",
   "name": "python",
   "nbconvert_exporter": "python",
   "pygments_lexer": "ipython3",
   "version": "3.9.13"
  }
 },
 "nbformat": 4,
 "nbformat_minor": 5
}
